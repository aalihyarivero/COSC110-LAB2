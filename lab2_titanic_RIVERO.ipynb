{
  "nbformat": 4,
  "nbformat_minor": 0,
  "metadata": {
    "colab": {
      "provenance": []
    },
    "kernelspec": {
      "name": "python3",
      "display_name": "Python 3"
    },
    "language_info": {
      "name": "python"
    }
  },
  "cells": [
    {
      "cell_type": "markdown",
      "source": [
        "#Laboratory Activity #2:Data Cleaning and Analysis using Titanic dataset\n"
      ],
      "metadata": {
        "id": "9-R3diZw6ZGE"
      }
    },
    {
      "cell_type": "code",
      "source": [
        "from google.colab import drive\n",
        "drive.mount('/content/drive')"
      ],
      "metadata": {
        "id": "MOryNLIb9i0T"
      },
      "execution_count": null,
      "outputs": []
    },
    {
      "cell_type": "code",
      "source": [
        "import pandas as pd\n",
        "\n",
        "# Load the dataset\n",
        "dataPath = '/content/drive/My Drive/lab1_titanic_RIVERO.ipynb/Titanic.csv'\n",
        "df = pd.read_csv(dataPath)\n",
        "\n",
        "# Display the first few rows\n",
        "df.head()"
      ],
      "metadata": {
        "id": "oM631kuH9kvj"
      },
      "execution_count": null,
      "outputs": []
    },
    {
      "cell_type": "markdown",
      "source": [
        "1. What are your steps in cleaning the dataset? Why did you choose the algorithm that you used in cleaning the dataset?"
      ],
      "metadata": {
        "id": "zJTC6RYk6ge7"
      }
    },
    {
      "cell_type": "markdown",
      "source": [
        "\n",
        "\n",
        "*   **Loading the Data:** Using Pandas to load the dataset (train.csv) into a DataFrame.\n",
        "\n",
        "*   **Understanding the data:** Using df.info(), df.describe(), and df.columns to understand the data structure and identify data types.\n",
        "\n",
        "\n",
        "*   **Handling Missing Values:**\n",
        "1.   Filling missing (Age) values with the median.\n",
        "2.   Dropping the (Cabin) column due to excessive missing data.\n",
        "3.   Removing rows with missing (Embarked) values.\n",
        "\n",
        "\n",
        "\n",
        "*  **Removing Duplicates:** Using df.drop_duplicates() to eliminate duplicate rows.\n",
        "*   **Fixing Data Types:** Converting Survived and Pclass to categorical data types for better analysis.\n",
        "*   **Standardizing Column Names:** Converting all column names to lowercase for consistency.\n",
        "*  **Saving the Cleaned Data sSet** Exporting to titanic_cleaned.csv.\n",
        "\n",
        "**Choice of Algorithm:**\n",
        "*  The median is chosen for (Age) to avoid the influence of outliers.\n",
        "*  Dropping the (Cabin) column is justified due to excessive missing data.\n",
        "*  Removing duplicates is essential for data integrity.\n",
        "\n",
        "\n",
        "\n",
        "\n",
        "\n",
        "\n",
        "\n",
        "\n",
        "\n",
        "\n",
        "\n",
        "\n",
        "\n",
        "\n",
        "\n",
        "\n",
        "\n",
        "\n",
        "\n",
        "\n",
        "\n"
      ],
      "metadata": {
        "id": "-IQ9Isqw6qT0"
      }
    },
    {
      "cell_type": "markdown",
      "source": [
        "2. Create at least two (2) basic data analysis on two (2) columns in the dataset. Be creative and critical in deriving the insights on the data. You can show the visualization used to derive the insights."
      ],
      "metadata": {
        "id": "yG01o-1F86fM"
      }
    },
    {
      "cell_type": "markdown",
      "source": [
        "\n",
        "\n",
        "**a. Survival Rate by Gender (Categorical Analysis):**\n",
        "\n",
        "\n",
        "\n",
        "\n"
      ],
      "metadata": {
        "id": "V5qra6qt9BGj"
      }
    },
    {
      "cell_type": "code",
      "source": [
        "import matplotlib.pyplot as plt\n",
        "\n",
        "df.groupby(\"sex\")[\"survived\"].mean().plot(kind=\"bar\")\n",
        "plt.title(\"Survival Rate by Gender\")\n",
        "plt.ylabel(\"Survival Rate\")\n",
        "plt.show()"
      ],
      "metadata": {
        "colab": {
          "base_uri": "https://localhost:8080/",
          "height": 222
        },
        "id": "p9SddA479N97",
        "outputId": "690a428d-0cd7-48c5-81e7-5f8a05f60a87"
      },
      "execution_count": 1,
      "outputs": [
        {
          "output_type": "error",
          "ename": "NameError",
          "evalue": "name 'df' is not defined",
          "traceback": [
            "\u001b[0;31m---------------------------------------------------------------------------\u001b[0m",
            "\u001b[0;31mNameError\u001b[0m                                 Traceback (most recent call last)",
            "\u001b[0;32m<ipython-input-1-81023d2ab2a0>\u001b[0m in \u001b[0;36m<cell line: 0>\u001b[0;34m()\u001b[0m\n\u001b[1;32m      1\u001b[0m \u001b[0;32mimport\u001b[0m \u001b[0mmatplotlib\u001b[0m\u001b[0;34m.\u001b[0m\u001b[0mpyplot\u001b[0m \u001b[0;32mas\u001b[0m \u001b[0mplt\u001b[0m\u001b[0;34m\u001b[0m\u001b[0;34m\u001b[0m\u001b[0m\n\u001b[1;32m      2\u001b[0m \u001b[0;34m\u001b[0m\u001b[0m\n\u001b[0;32m----> 3\u001b[0;31m \u001b[0mdf\u001b[0m\u001b[0;34m.\u001b[0m\u001b[0mgroupby\u001b[0m\u001b[0;34m(\u001b[0m\u001b[0;34m\"sex\"\u001b[0m\u001b[0;34m)\u001b[0m\u001b[0;34m[\u001b[0m\u001b[0;34m\"survived\"\u001b[0m\u001b[0;34m]\u001b[0m\u001b[0;34m.\u001b[0m\u001b[0mmean\u001b[0m\u001b[0;34m(\u001b[0m\u001b[0;34m)\u001b[0m\u001b[0;34m.\u001b[0m\u001b[0mplot\u001b[0m\u001b[0;34m(\u001b[0m\u001b[0mkind\u001b[0m\u001b[0;34m=\u001b[0m\u001b[0;34m\"bar\"\u001b[0m\u001b[0;34m)\u001b[0m\u001b[0;34m\u001b[0m\u001b[0;34m\u001b[0m\u001b[0m\n\u001b[0m\u001b[1;32m      4\u001b[0m \u001b[0mplt\u001b[0m\u001b[0;34m.\u001b[0m\u001b[0mtitle\u001b[0m\u001b[0;34m(\u001b[0m\u001b[0;34m\"Survival Rate by Gender\"\u001b[0m\u001b[0;34m)\u001b[0m\u001b[0;34m\u001b[0m\u001b[0;34m\u001b[0m\u001b[0m\n\u001b[1;32m      5\u001b[0m \u001b[0mplt\u001b[0m\u001b[0;34m.\u001b[0m\u001b[0mylabel\u001b[0m\u001b[0;34m(\u001b[0m\u001b[0;34m\"Survival Rate\"\u001b[0m\u001b[0;34m)\u001b[0m\u001b[0;34m\u001b[0m\u001b[0;34m\u001b[0m\u001b[0m\n",
            "\u001b[0;31mNameError\u001b[0m: name 'df' is not defined"
          ]
        }
      ]
    },
    {
      "cell_type": "markdown",
      "source": [
        "**Insight:** Females had a significantly higher survival rate than males, likely due to the \"women and children first\" policy.\n",
        "\n"
      ],
      "metadata": {
        "id": "gE-w14YX-BKM"
      }
    },
    {
      "cell_type": "markdown",
      "source": [
        "**b. Age Distribution (Numerical Analysis):**\n"
      ],
      "metadata": {
        "id": "NVtsjuNs9xsz"
      }
    },
    {
      "cell_type": "code",
      "source": [
        "df[\"age\"].plot(kind=\"hist\", bins=20, edgecolor=\"black\")\n",
        "plt.title(\"Age Distribution\")\n",
        "plt.xlabel(\"Age\")\n",
        "plt.show()"
      ],
      "metadata": {
        "id": "ayNDQQFE9w4b"
      },
      "execution_count": null,
      "outputs": []
    },
    {
      "cell_type": "markdown",
      "source": [
        "**Insight:** The age distribution shows a peak in younger passengers, which can help identify demographics more likely to survive."
      ],
      "metadata": {
        "id": "2LPMXZsK-G0z"
      }
    }
  ]
}